{
 "cells": [
  {
   "cell_type": "code",
   "execution_count": 1,
   "id": "5c58f8bf",
   "metadata": {},
   "outputs": [],
   "source": [
    "import warnings\n",
    "warnings.filterwarnings('ignore')\n",
    "\n",
    "import numpy as np\n",
    "import pandas as pd\n",
    "import seaborn as sns\n",
    "import re\n",
    "\n",
    "# increase display of columns in pandas\n",
    "pd.set_option('display.max_colwidth', 200)\n",
    "import os\n",
    "import sys\n",
    "sys.path.append('./dev1')\n",
    "from evaluate import Evaluate"
   ]
  },
  {
   "cell_type": "code",
   "execution_count": 2,
   "id": "bee8c936",
   "metadata": {},
   "outputs": [
    {
     "name": "stdout",
     "output_type": "stream",
     "text": [
      "Requirement already satisfied: tk in c:\\programdata\\anaconda3\\lib\\site-packages (0.1.0)\n"
     ]
    }
   ],
   "source": [
    "!pip install tk"
   ]
  },
  {
   "cell_type": "code",
   "execution_count": 13,
   "id": "1d8829c8",
   "metadata": {},
   "outputs": [
    {
     "name": "stdout",
     "output_type": "stream",
     "text": [
      "('In which city was the stamp officially released?', 'Boston', 'ss')\n",
      "('False', 'ss', 'Invalid/not match answer')\n"
     ]
    }
   ],
   "source": [
    "import tkinter as tk\n",
    "\n",
    "class QA(tk.Frame):\n",
    "    \n",
    "    def __init__(self,master):\n",
    "        \n",
    "        tk.Frame.__init__(self,master)\n",
    "        self.master = master\n",
    "        \n",
    "        filepath = 'C:\\\\Users\\\\User\\\\NLP\\\\cleaned_df.csv'\n",
    "        self.data = pd.read_csv(filepath)\n",
    "        self.data.columns = [i.lower() for i in self.data.columns]\n",
    "        self.cat_col = [col for col in self.data if col.startswith('category')][-1]\n",
    "        cats = list(self.data[self.cat_col].unique())\n",
    "        cats = sorted(cats)\n",
    "        \n",
    "        self.cat_selection = tk.StringVar()\n",
    "        self.cat_selection.set(cats[0])\n",
    "        \n",
    "        self.cat_label = tk.Label(root,text=\"Select Category: \")\n",
    "        self.cat_entry = tk.OptionMenu(root,self.cat_selection, *cats)\n",
    "        \n",
    "        self.submit = tk.Button(text=\"Submit Category\",command=self.gen_question)\n",
    "        \n",
    "        self.cat_label.grid(row=0,column=0)\n",
    "        self.cat_entry.grid(row=0,column=1)\n",
    "        self.submit.grid(row=1,column=1)\n",
    "        \n",
    "    def gen_question(self):\n",
    "        self.submit.destroy()\n",
    "\n",
    "        self.category = self.cat_selection.get()\n",
    "    \n",
    "        mask_cat = (self.data[self.cat_col] == self.category)\n",
    "        self.data_filter = self.data[mask_cat]\n",
    "        self.data_filter = self.data_filter.sample(n=1)\n",
    "    \n",
    "        self.question = self.data_filter.iloc[0,2]\n",
    "        self.ref_answer = self.data_filter.iloc[0,3]\n",
    "            \n",
    "        self.question_title = tk.Label(root,text=f'Question')\n",
    "        self.question_label = tk.Label(root,text=self.question)\n",
    "        \n",
    "        self.answer_entry = tk.Entry(root)\n",
    "        self.submit = tk.Button(text=\"Submit Answer\",command=self.get_result)\n",
    "        \n",
    "        self.question_title.grid(row=5,column=0)\n",
    "        self.question_label.grid(row=6,column=0)\n",
    "        self.answer_entry.grid(row=7,column=0)\n",
    "        self.submit.grid(row=7,column=1)            \n",
    "                \n",
    "    def get_result(self):\n",
    "        self.answer = self.answer_entry.get()\n",
    "        \n",
    "        self.input = (\n",
    "            self.question,\n",
    "            self.ref_answer,\n",
    "            self.answer\n",
    "        )\n",
    "        \n",
    "        output = [\n",
    "            Evaluate.is_invalid_case(self,self.input),\n",
    "            Evaluate.is_match_case(self,self.input),\n",
    "            Evaluate.is_ordering_case(self,self.input),\n",
    "            Evaluate.is_aposthrope_case(self,self.input)         \n",
    "        ]\n",
    "        \n",
    "        if output[0] is not None:\n",
    "            self.output = output[0]\n",
    "            \n",
    "        if all(item is None for item in output):\n",
    "            self.output = tuple(\n",
    "                True,\n",
    "                self.answer,\n",
    "                None\n",
    "            )\n",
    "        if output[0] is None:\n",
    "            self.output = [i for i in output if i is not None]\n",
    "        \n",
    "        root.destroy()\n",
    "\n",
    "            \n",
    "if __name__ == '__main__':\n",
    "    root = tk.Tk()\n",
    "    root.geometry(\"600x200+200+200\")\n",
    "    app = QA(root)\n",
    "    root.mainloop()\n",
    "\n",
    "    print(app.input)\n",
    "    print(app.output)     "
   ]
  }
 ],
 "metadata": {
  "kernelspec": {
   "display_name": "Python 3",
   "language": "python",
   "name": "python3"
  },
  "language_info": {
   "codemirror_mode": {
    "name": "ipython",
    "version": 3
   },
   "file_extension": ".py",
   "mimetype": "text/x-python",
   "name": "python",
   "nbconvert_exporter": "python",
   "pygments_lexer": "ipython3",
   "version": "3.8.8"
  }
 },
 "nbformat": 4,
 "nbformat_minor": 5
}
